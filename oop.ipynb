{
 "cells": [
  {
   "cell_type": "markdown",
   "id": "705889c7",
   "metadata": {},
   "source": [
    "# Object Oriented Programming"
   ]
  },
  {
   "cell_type": "code",
   "execution_count": 1,
   "id": "6f3a6bfc",
   "metadata": {},
   "outputs": [],
   "source": [
    "# class, oop principles -> 1. abstraction 2. encapsulation 3. inheritance 4. polymorphism"
   ]
  },
  {
   "cell_type": "markdown",
   "id": "fcaed18b",
   "metadata": {},
   "source": [
    "### Class"
   ]
  },
  {
   "cell_type": "code",
   "execution_count": 27,
   "id": "6bec61a2",
   "metadata": {},
   "outputs": [],
   "source": [
    "class Student:\n",
    "    \n",
    "    # properties -> 1. attr, 2. functions\n",
    "    # global variable\n",
    "    name = \"\"\n",
    "    dept = \"\"\n",
    "    \n",
    "    # constructor\n",
    "    def __init__(self, name, dept):\n",
    "        self.name = name\n",
    "        self.dept = dept\n",
    "        \n",
    "    \n",
    "    # functions\n",
    "    def get_stu_name(self):\n",
    "        return self.name\n",
    "    \n",
    "    def get_stu_dept(self):\n",
    "        return self.dept\n",
    "    \n",
    "    def __str__(self):\n",
    "        return self.name+\" \"+self.dept\n",
    "    "
   ]
  },
  {
   "cell_type": "code",
   "execution_count": 28,
   "id": "2eea5d1b",
   "metadata": {},
   "outputs": [],
   "source": [
    "# object \n",
    "student = Student(\"Shamim\", \"IT\")"
   ]
  },
  {
   "cell_type": "code",
   "execution_count": 21,
   "id": "1ac91bf5",
   "metadata": {},
   "outputs": [
    {
     "data": {
      "text/plain": [
       "'Shamim'"
      ]
     },
     "execution_count": 21,
     "metadata": {},
     "output_type": "execute_result"
    }
   ],
   "source": [
    "student.name"
   ]
  },
  {
   "cell_type": "code",
   "execution_count": 22,
   "id": "0e374291",
   "metadata": {},
   "outputs": [
    {
     "data": {
      "text/plain": [
       "'IT'"
      ]
     },
     "execution_count": 22,
     "metadata": {},
     "output_type": "execute_result"
    }
   ],
   "source": [
    "student.dept"
   ]
  },
  {
   "cell_type": "code",
   "execution_count": 14,
   "id": "d23b552f",
   "metadata": {},
   "outputs": [],
   "source": [
    "# student.name = \"Md Tarek\"\n",
    "# student.dept = \"BBA\""
   ]
  },
  {
   "cell_type": "code",
   "execution_count": 15,
   "id": "7b2eb871",
   "metadata": {},
   "outputs": [
    {
     "data": {
      "text/plain": [
       "'Md Tarek'"
      ]
     },
     "execution_count": 15,
     "metadata": {},
     "output_type": "execute_result"
    }
   ],
   "source": [
    "student.name"
   ]
  },
  {
   "cell_type": "code",
   "execution_count": 16,
   "id": "bb747a6f",
   "metadata": {},
   "outputs": [
    {
     "data": {
      "text/plain": [
       "'BBA'"
      ]
     },
     "execution_count": 16,
     "metadata": {},
     "output_type": "execute_result"
    }
   ],
   "source": [
    "student.dept"
   ]
  },
  {
   "cell_type": "code",
   "execution_count": 23,
   "id": "79f16698",
   "metadata": {},
   "outputs": [
    {
     "data": {
      "text/plain": [
       "'Shamim'"
      ]
     },
     "execution_count": 23,
     "metadata": {},
     "output_type": "execute_result"
    }
   ],
   "source": [
    "student.get_stu_name()"
   ]
  },
  {
   "cell_type": "code",
   "execution_count": 24,
   "id": "44a6f6bd",
   "metadata": {},
   "outputs": [
    {
     "data": {
      "text/plain": [
       "'IT'"
      ]
     },
     "execution_count": 24,
     "metadata": {},
     "output_type": "execute_result"
    }
   ],
   "source": [
    "student.get_stu_dept()"
   ]
  },
  {
   "cell_type": "code",
   "execution_count": 32,
   "id": "6a3fbe84",
   "metadata": {},
   "outputs": [],
   "source": [
    "student1 = Student(\"Tarek\", \"CSE\")"
   ]
  },
  {
   "cell_type": "code",
   "execution_count": 26,
   "id": "647abc99",
   "metadata": {},
   "outputs": [
    {
     "data": {
      "text/plain": [
       "'Tarek'"
      ]
     },
     "execution_count": 26,
     "metadata": {},
     "output_type": "execute_result"
    }
   ],
   "source": [
    "student1.name"
   ]
  },
  {
   "cell_type": "code",
   "execution_count": 29,
   "id": "6f588452",
   "metadata": {},
   "outputs": [
    {
     "name": "stdout",
     "output_type": "stream",
     "text": [
      "Shamim IT\n"
     ]
    }
   ],
   "source": [
    "print(student)"
   ]
  },
  {
   "cell_type": "code",
   "execution_count": 33,
   "id": "5864d913",
   "metadata": {},
   "outputs": [
    {
     "name": "stdout",
     "output_type": "stream",
     "text": [
      "Tarek CSE\n"
     ]
    }
   ],
   "source": [
    "print(student1)"
   ]
  },
  {
   "cell_type": "code",
   "execution_count": null,
   "id": "44a9ab1d",
   "metadata": {},
   "outputs": [],
   "source": []
  }
 ],
 "metadata": {
  "kernelspec": {
   "display_name": "Python 3 (ipykernel)",
   "language": "python",
   "name": "python3"
  },
  "language_info": {
   "codemirror_mode": {
    "name": "ipython",
    "version": 3
   },
   "file_extension": ".py",
   "mimetype": "text/x-python",
   "name": "python",
   "nbconvert_exporter": "python",
   "pygments_lexer": "ipython3",
   "version": "3.9.7"
  }
 },
 "nbformat": 4,
 "nbformat_minor": 5
}
