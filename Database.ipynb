{
 "cells": [
  {
   "cell_type": "code",
   "execution_count": 2,
   "id": "6f5a40e2",
   "metadata": {},
   "outputs": [],
   "source": [
    "import mysql.connector as conn"
   ]
  },
  {
   "cell_type": "code",
   "execution_count": null,
   "id": "3481a6e2",
   "metadata": {},
   "outputs": [],
   "source": [
    "!pip install mysql-connector-python"
   ]
  },
  {
   "cell_type": "code",
   "execution_count": 4,
   "id": "eae2d7fb",
   "metadata": {},
   "outputs": [
    {
     "data": {
      "text/plain": [
       "<mysql.connector.connection_cext.CMySQLConnection at 0x1ff7d26e040>"
      ]
     },
     "execution_count": 4,
     "metadata": {},
     "output_type": "execute_result"
    }
   ],
   "source": [
    "db = conn.connect(\n",
    "    host = \"localhost\",\n",
    "    user = \"root\",\n",
    "    password = \"\",\n",
    ")\n",
    "db"
   ]
  },
  {
   "cell_type": "code",
   "execution_count": 5,
   "id": "7a875814",
   "metadata": {},
   "outputs": [],
   "source": [
    "# create database\n",
    "sql = \"CREATE DATABASE student\"\n",
    "cursor = db.cursor()\n",
    "cursor.execute(sql)\n",
    "cursor.close()\n",
    "db.close()"
   ]
  },
  {
   "cell_type": "code",
   "execution_count": 10,
   "id": "dfb88d75",
   "metadata": {},
   "outputs": [],
   "source": [
    "# create table\n",
    "try:\n",
    "    db = conn.connect(\n",
    "    host = \"localhost\",\n",
    "    user = \"root\",\n",
    "    password = \"\",\n",
    "    database = 'student'\n",
    "    )\n",
    "    sql = \"CREATE TABLE student_info(id integer primary key auto_increment, name varchar(255), dept varchar(255))\"\n",
    "    cursor = db.cursor()\n",
    "    cursor.execute(sql)\n",
    "    cursor.close()\n",
    "    db.close()\n",
    "except Exception as e:\n",
    "    print(e)"
   ]
  },
  {
   "cell_type": "code",
   "execution_count": 11,
   "id": "143b0e57",
   "metadata": {},
   "outputs": [],
   "source": [
    "# insert data into table\n",
    "try:\n",
    "    db = conn.connect(\n",
    "    host = \"localhost\",\n",
    "    user = \"root\",\n",
    "    password = \"\",\n",
    "    database = 'student'\n",
    "    )\n",
    "    sql = \"INSERT INTO student_info(id, name, dept) VALUES(0, 'Abir', 'BBA')\"\n",
    "    cursor = db.cursor()\n",
    "    cursor.execute(sql)\n",
    "    db.commit()\n",
    "    cursor.close()\n",
    "    db.close()\n",
    "except Exception as e:\n",
    "    print(e)"
   ]
  },
  {
   "cell_type": "code",
   "execution_count": 12,
   "id": "b414f3bc",
   "metadata": {},
   "outputs": [],
   "source": [
    "try:\n",
    "    db = conn.connect(\n",
    "    host = \"localhost\",\n",
    "    user = \"root\",\n",
    "    password = \"\",\n",
    "    database = 'student'\n",
    "    )\n",
    "    sql = \"INSERT INTO student_info(id, name, dept) VALUES(0, 'Zoha', 'CSE')\"\n",
    "    cursor = db.cursor()\n",
    "    cursor.execute(sql)\n",
    "    db.commit()\n",
    "    cursor.close()\n",
    "    db.close()\n",
    "except Exception as e:\n",
    "    print(e)"
   ]
  },
  {
   "cell_type": "code",
   "execution_count": 13,
   "id": "2fa77f98",
   "metadata": {},
   "outputs": [
    {
     "name": "stdout",
     "output_type": "stream",
     "text": [
      "(1, 'Abir', 'BBA')\n",
      "(2, 'Zoha', 'CSE')\n"
     ]
    }
   ],
   "source": [
    "# fetch the data\n",
    "try:\n",
    "    db = conn.connect(\n",
    "    host = \"localhost\",\n",
    "    user = \"root\",\n",
    "    password = \"\",\n",
    "    database = 'student'\n",
    "    )\n",
    "    sql = \"SELECT * FROM student_info\"\n",
    "    cursor = db.cursor()\n",
    "    cursor.execute(sql)\n",
    "    res = cursor.fetchall()\n",
    "    for i in res:\n",
    "        print(i)\n",
    "    cursor.close()\n",
    "    db.close()\n",
    "except Exception as e:\n",
    "    print(e)"
   ]
  },
  {
   "cell_type": "code",
   "execution_count": 16,
   "id": "ca2a9906",
   "metadata": {},
   "outputs": [
    {
     "name": "stdout",
     "output_type": "stream",
     "text": [
      "(1, 'Abir', 'IT')\n",
      "(2, 'Zoha', 'CSE')\n"
     ]
    }
   ],
   "source": [
    "# update table\n",
    "try:\n",
    "    db = conn.connect(\n",
    "    host = \"localhost\",\n",
    "    user = \"root\",\n",
    "    password = \"\",\n",
    "    database = 'student'\n",
    "    )\n",
    "    sql = \"UPDATE student_info SET dept = 'IT' WHERE id = 1\"\n",
    "    cursor = db.cursor()\n",
    "    cursor.execute(sql)\n",
    "    db.commit()\n",
    "    cursor.close()\n",
    "    db.close()\n",
    "except Exception as e:\n",
    "    print(e)\n",
    "    \n",
    "#     ===================\n",
    "    \n",
    "try:\n",
    "    db = conn.connect(\n",
    "    host = \"localhost\",\n",
    "    user = \"root\",\n",
    "    password = \"\",\n",
    "    database = 'student'\n",
    "    )\n",
    "    sql = \"SELECT * FROM student_info\"\n",
    "    cursor = db.cursor()\n",
    "    cursor.execute(sql)\n",
    "    res = cursor.fetchall()\n",
    "    for i in res:\n",
    "        print(i)\n",
    "    cursor.close()\n",
    "    db.close()\n",
    "except Exception as e:\n",
    "    print(e)"
   ]
  },
  {
   "cell_type": "code",
   "execution_count": 17,
   "id": "11a9cc25",
   "metadata": {},
   "outputs": [
    {
     "name": "stdout",
     "output_type": "stream",
     "text": [
      "(2, 'Zoha', 'CSE')\n"
     ]
    }
   ],
   "source": [
    "# DELETE student\n",
    "try:\n",
    "    db = conn.connect(\n",
    "    host = \"localhost\",\n",
    "    user = \"root\",\n",
    "    password = \"\",\n",
    "    database = 'student'\n",
    "    )\n",
    "    sql = \"DELETE FROM student_info WHERE id = 1\"\n",
    "    cursor = db.cursor()\n",
    "    cursor.execute(sql)\n",
    "    db.commit()\n",
    "    cursor.close()\n",
    "    db.close()\n",
    "except Exception as e:\n",
    "    print(e)\n",
    "    \n",
    "    #     ===================\n",
    "    \n",
    "try:\n",
    "    db = conn.connect(\n",
    "    host = \"localhost\",\n",
    "    user = \"root\",\n",
    "    password = \"\",\n",
    "    database = 'student'\n",
    "    )\n",
    "    sql = \"SELECT * FROM student_info\"\n",
    "    cursor = db.cursor()\n",
    "    cursor.execute(sql)\n",
    "    res = cursor.fetchall()\n",
    "    for i in res:\n",
    "        print(i)\n",
    "    cursor.close()\n",
    "    db.close()\n",
    "except Exception as e:\n",
    "    print(e)"
   ]
  },
  {
   "cell_type": "code",
   "execution_count": null,
   "id": "d8ef16b5",
   "metadata": {},
   "outputs": [],
   "source": []
  }
 ],
 "metadata": {
  "kernelspec": {
   "display_name": "Python 3 (ipykernel)",
   "language": "python",
   "name": "python3"
  },
  "language_info": {
   "codemirror_mode": {
    "name": "ipython",
    "version": 3
   },
   "file_extension": ".py",
   "mimetype": "text/x-python",
   "name": "python",
   "nbconvert_exporter": "python",
   "pygments_lexer": "ipython3",
   "version": "3.9.7"
  }
 },
 "nbformat": 4,
 "nbformat_minor": 5
}
