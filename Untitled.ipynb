{
 "cells": [
  {
   "cell_type": "markdown",
   "id": "19f6bef5",
   "metadata": {},
   "source": [
    "# Condition"
   ]
  },
  {
   "cell_type": "code",
   "execution_count": null,
   "id": "6111de5d",
   "metadata": {},
   "outputs": [],
   "source": [
    "if condition:\n",
    "    statement\n",
    "else:\n",
    "    statement"
   ]
  },
  {
   "cell_type": "code",
   "execution_count": 2,
   "id": "253d5641",
   "metadata": {},
   "outputs": [
    {
     "name": "stdout",
     "output_type": "stream",
     "text": [
      "False\n"
     ]
    }
   ],
   "source": [
    "if 100<10:\n",
    "    print(\"True\")\n",
    "else:\n",
    "    print(\"False\")"
   ]
  },
  {
   "cell_type": "code",
   "execution_count": 12,
   "id": "35e82906",
   "metadata": {},
   "outputs": [
    {
     "name": "stdout",
     "output_type": "stream",
     "text": [
      "I will buy a tShirt\n"
     ]
    }
   ],
   "source": [
    "# if else ladder\n",
    "money = 11000 # and, or, not\n",
    "if money >= 1000 and money <= 1999:\n",
    "    print(\"Go for watch movie in cineplex\")\n",
    "elif money >= 2000 and money <= 5000:\n",
    "    print(\"watch and eating dinner\")\n",
    "elif not money <= 9000:\n",
    "    print(\"I will buy a tShirt\")\n",
    "else:\n",
    "    print(\"Stay in home\")"
   ]
  },
  {
   "cell_type": "code",
   "execution_count": 20,
   "id": "b5e51348",
   "metadata": {},
   "outputs": [
    {
     "name": "stdout",
     "output_type": "stream",
     "text": [
      "Under 18, do you have birth certificate?\n",
      "BC is fine\n"
     ]
    }
   ],
   "source": [
    "# if else nested\n",
    "# nid and age\n",
    "age = 17\n",
    "nid = False\n",
    "bc = True\n",
    "cer = True\n",
    "\n",
    "\n",
    "if age >= 18:\n",
    "    print(\"Accepted for passport\")\n",
    "    if nid == True:\n",
    "        print(\"Varified for passport\")\n",
    "    else:\n",
    "        print(\"Not varified, do you have any certificate ex: SSC, HSc\")\n",
    "        if cer == True:\n",
    "            print(\"Fine it will be ok\")\n",
    "        else:\n",
    "            print(\"We are really sorry\")\n",
    "else:\n",
    "    print(\"Under 18, do you have birth certificate?\")\n",
    "    if bc == True:\n",
    "        print(\"BC is fine\")\n",
    "    else:\n",
    "        print(\"Please brings the BC or Chairman certificate!\")"
   ]
  },
  {
   "cell_type": "markdown",
   "id": "e5005601",
   "metadata": {},
   "source": [
    "# Loop"
   ]
  },
  {
   "cell_type": "code",
   "execution_count": 22,
   "id": "54b64272",
   "metadata": {},
   "outputs": [
    {
     "name": "stdout",
     "output_type": "stream",
     "text": [
      "0\n",
      "1\n",
      "2\n",
      "3\n",
      "4\n",
      "5\n",
      "6\n",
      "7\n",
      "8\n",
      "9\n"
     ]
    }
   ],
   "source": [
    "# for, while\n",
    "for i in range(10):\n",
    "    print(i)"
   ]
  },
  {
   "cell_type": "code",
   "execution_count": 29,
   "id": "3d234933",
   "metadata": {},
   "outputs": [
    {
     "name": "stdout",
     "output_type": "stream",
     "text": [
      "0\n",
      "10\n",
      "20\n",
      "30\n",
      "40\n",
      "50\n",
      "60\n",
      "70\n",
      "80\n",
      "90\n"
     ]
    }
   ],
   "source": [
    "i = 0\n",
    "j = 0\n",
    "n = 10\n",
    "while i < n:\n",
    "    print(j)\n",
    "    i = i+1\n",
    "    j = j+10"
   ]
  },
  {
   "cell_type": "code",
   "execution_count": 30,
   "id": "5763b4bc",
   "metadata": {},
   "outputs": [
    {
     "name": "stdout",
     "output_type": "stream",
     "text": [
      "100\n"
     ]
    },
    {
     "data": {
      "text/plain": [
       "'100'"
      ]
     },
     "execution_count": 30,
     "metadata": {},
     "output_type": "execute_result"
    }
   ],
   "source": []
  },
  {
   "cell_type": "code",
   "execution_count": 43,
   "id": "b96b0680",
   "metadata": {},
   "outputs": [],
   "source": [
    "import numpy as np"
   ]
  },
  {
   "cell_type": "code",
   "execution_count": 45,
   "id": "c04d72c9",
   "metadata": {},
   "outputs": [
    {
     "data": {
      "text/plain": [
       "5"
      ]
     },
     "execution_count": 45,
     "metadata": {},
     "output_type": "execute_result"
    }
   ],
   "source": [
    "rand_num = np.random.randint(10)\n",
    "rand_num"
   ]
  },
  {
   "cell_type": "code",
   "execution_count": 49,
   "id": "12835223",
   "metadata": {},
   "outputs": [
    {
     "name": "stdout",
     "output_type": "stream",
     "text": [
      "7\n",
      "8\n",
      "5\n",
      "you win 5\n"
     ]
    }
   ],
   "source": [
    "guess_the_number = int(input())\n",
    "# guess_the_number = int(guess_the_number)\n",
    "while True:\n",
    "    if rand_num == guess_the_number:\n",
    "        print(\"you win\", guess_the_number)\n",
    "        break\n",
    "    else:\n",
    "        guess_the_number = int(input())"
   ]
  },
  {
   "cell_type": "code",
   "execution_count": null,
   "id": "b13d2e08",
   "metadata": {},
   "outputs": [],
   "source": []
  }
 ],
 "metadata": {
  "kernelspec": {
   "display_name": "Python 3 (ipykernel)",
   "language": "python",
   "name": "python3"
  },
  "language_info": {
   "codemirror_mode": {
    "name": "ipython",
    "version": 3
   },
   "file_extension": ".py",
   "mimetype": "text/x-python",
   "name": "python",
   "nbconvert_exporter": "python",
   "pygments_lexer": "ipython3",
   "version": "3.9.7"
  }
 },
 "nbformat": 4,
 "nbformat_minor": 5
}
