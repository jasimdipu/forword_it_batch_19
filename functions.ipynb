{
 "cells": [
  {
   "cell_type": "code",
   "execution_count": 1,
   "id": "a5240257",
   "metadata": {},
   "outputs": [],
   "source": [
    "# 5 = 1+2+3+4+5 = 15"
   ]
  },
  {
   "cell_type": "code",
   "execution_count": 6,
   "id": "fa563ad8",
   "metadata": {},
   "outputs": [
    {
     "data": {
      "text/plain": [
       "15"
      ]
     },
     "execution_count": 6,
     "metadata": {},
     "output_type": "execute_result"
    }
   ],
   "source": [
    "s = 0\n",
    "n = 5\n",
    "for i in range(1, n+1):\n",
    "    s += i\n",
    "s"
   ]
  },
  {
   "cell_type": "code",
   "execution_count": 10,
   "id": "7fc31444",
   "metadata": {},
   "outputs": [],
   "source": [
    "def summation(n):\n",
    "    s = 0\n",
    "    for i in range(1, n+1):\n",
    "        s += i\n",
    "    return s"
   ]
  },
  {
   "cell_type": "code",
   "execution_count": 11,
   "id": "90d63c6f",
   "metadata": {},
   "outputs": [
    {
     "data": {
      "text/plain": [
       "15"
      ]
     },
     "execution_count": 11,
     "metadata": {},
     "output_type": "execute_result"
    }
   ],
   "source": [
    "summation(5)"
   ]
  },
  {
   "cell_type": "code",
   "execution_count": 12,
   "id": "01ade6e7",
   "metadata": {},
   "outputs": [
    {
     "data": {
      "text/plain": [
       "120"
      ]
     },
     "execution_count": 12,
     "metadata": {},
     "output_type": "execute_result"
    }
   ],
   "source": [
    "summation(15)"
   ]
  },
  {
   "cell_type": "code",
   "execution_count": 14,
   "id": "f1892bfc",
   "metadata": {},
   "outputs": [
    {
     "ename": "KeyboardInterrupt",
     "evalue": "",
     "output_type": "error",
     "traceback": [
      "\u001b[1;31m---------------------------------------------------------------------------\u001b[0m",
      "\u001b[1;31mKeyboardInterrupt\u001b[0m                         Traceback (most recent call last)",
      "\u001b[1;32m~\\AppData\\Local\\Temp/ipykernel_7468/2674344920.py\u001b[0m in \u001b[0;36m<module>\u001b[1;34m\u001b[0m\n\u001b[1;32m----> 1\u001b[1;33m \u001b[0msummation\u001b[0m\u001b[1;33m(\u001b[0m\u001b[1;36m7522345324\u001b[0m\u001b[1;33m)\u001b[0m\u001b[1;33m\u001b[0m\u001b[1;33m\u001b[0m\u001b[0m\n\u001b[0m",
      "\u001b[1;32m~\\AppData\\Local\\Temp/ipykernel_7468/310007888.py\u001b[0m in \u001b[0;36msummation\u001b[1;34m(n)\u001b[0m\n\u001b[0;32m      2\u001b[0m     \u001b[0ms\u001b[0m \u001b[1;33m=\u001b[0m \u001b[1;36m0\u001b[0m\u001b[1;33m\u001b[0m\u001b[1;33m\u001b[0m\u001b[0m\n\u001b[0;32m      3\u001b[0m     \u001b[1;32mfor\u001b[0m \u001b[0mi\u001b[0m \u001b[1;32min\u001b[0m \u001b[0mrange\u001b[0m\u001b[1;33m(\u001b[0m\u001b[1;36m1\u001b[0m\u001b[1;33m,\u001b[0m \u001b[0mn\u001b[0m\u001b[1;33m+\u001b[0m\u001b[1;36m1\u001b[0m\u001b[1;33m)\u001b[0m\u001b[1;33m:\u001b[0m\u001b[1;33m\u001b[0m\u001b[1;33m\u001b[0m\u001b[0m\n\u001b[1;32m----> 4\u001b[1;33m         \u001b[0ms\u001b[0m \u001b[1;33m+=\u001b[0m \u001b[0mi\u001b[0m\u001b[1;33m\u001b[0m\u001b[1;33m\u001b[0m\u001b[0m\n\u001b[0m\u001b[0;32m      5\u001b[0m     \u001b[1;32mreturn\u001b[0m \u001b[0ms\u001b[0m\u001b[1;33m\u001b[0m\u001b[1;33m\u001b[0m\u001b[0m\n",
      "\u001b[1;31mKeyboardInterrupt\u001b[0m: "
     ]
    }
   ],
   "source": [
    "summation(7522345324)"
   ]
  },
  {
   "cell_type": "code",
   "execution_count": 15,
   "id": "0d26b0ae",
   "metadata": {},
   "outputs": [],
   "source": [
    "# Time Complexity O(n) => O(1522345324)\n",
    "def summ(n):\n",
    "    return (n*(n+1))//2"
   ]
  },
  {
   "cell_type": "code",
   "execution_count": 16,
   "id": "0067c912",
   "metadata": {},
   "outputs": [
    {
     "data": {
      "text/plain": [
       "28292839590513505150"
      ]
     },
     "execution_count": 16,
     "metadata": {},
     "output_type": "execute_result"
    }
   ],
   "source": [
    "summ(7522345324)"
   ]
  },
  {
   "cell_type": "code",
   "execution_count": 29,
   "id": "2b7e841a",
   "metadata": {},
   "outputs": [],
   "source": [
    "def func1(num1, num2, num3=10):\n",
    "    print(num1, num2, num3)"
   ]
  },
  {
   "cell_type": "code",
   "execution_count": 31,
   "id": "8c6a4242",
   "metadata": {},
   "outputs": [
    {
     "name": "stdout",
     "output_type": "stream",
     "text": [
      "10 20 10\n"
     ]
    }
   ],
   "source": [
    "func1(10, 20)"
   ]
  },
  {
   "cell_type": "code",
   "execution_count": 19,
   "id": "426a3c7e",
   "metadata": {},
   "outputs": [],
   "source": [
    "def func2(*args):\n",
    "    print(args)"
   ]
  },
  {
   "cell_type": "code",
   "execution_count": 20,
   "id": "3c2bc0d8",
   "metadata": {},
   "outputs": [
    {
     "name": "stdout",
     "output_type": "stream",
     "text": [
      "(1, 2, 3, 5, 7, 68, 7, 9, 80)\n"
     ]
    }
   ],
   "source": [
    "func2(1, 2, 3, 5, 7, 68, 7,9 ,80)"
   ]
  },
  {
   "cell_type": "code",
   "execution_count": 23,
   "id": "504875ec",
   "metadata": {},
   "outputs": [],
   "source": [
    "def func3(**kwargs):\n",
    "    print(kwargs.values())"
   ]
  },
  {
   "cell_type": "code",
   "execution_count": 24,
   "id": "9e5959ff",
   "metadata": {},
   "outputs": [
    {
     "name": "stdout",
     "output_type": "stream",
     "text": [
      "dict_values(['Habib', 'CSE'])\n"
     ]
    }
   ],
   "source": [
    "func3(name=\"Habib\", dept=\"CSE\")"
   ]
  },
  {
   "cell_type": "code",
   "execution_count": 34,
   "id": "2a6b6055",
   "metadata": {},
   "outputs": [],
   "source": [
    "def info(num1, *args, **kwargs):\n",
    "    pass"
   ]
  },
  {
   "cell_type": "code",
   "execution_count": 37,
   "id": "7bd0f3d9",
   "metadata": {},
   "outputs": [],
   "source": [
    "info(10, 100, 200, 300, num=15, num2=35)"
   ]
  },
  {
   "cell_type": "code",
   "execution_count": null,
   "id": "d5de1869",
   "metadata": {},
   "outputs": [],
   "source": []
  }
 ],
 "metadata": {
  "kernelspec": {
   "display_name": "Python 3 (ipykernel)",
   "language": "python",
   "name": "python3"
  },
  "language_info": {
   "codemirror_mode": {
    "name": "ipython",
    "version": 3
   },
   "file_extension": ".py",
   "mimetype": "text/x-python",
   "name": "python",
   "nbconvert_exporter": "python",
   "pygments_lexer": "ipython3",
   "version": "3.9.7"
  }
 },
 "nbformat": 4,
 "nbformat_minor": 5
}
