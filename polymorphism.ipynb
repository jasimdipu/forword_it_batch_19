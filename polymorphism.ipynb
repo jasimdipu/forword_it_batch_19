{
 "cells": [
  {
   "cell_type": "code",
   "execution_count": 17,
   "id": "3d394355",
   "metadata": {},
   "outputs": [],
   "source": [
    "class Animal():\n",
    "    \n",
    "    def __init__(self):\n",
    "        print(\"From Animal class\")\n",
    "    \n",
    "    def sound(sound):\n",
    "        return sound\n",
    "    \n",
    "    def whichclass(self):\n",
    "        return \"From Animal class\"\n",
    "    \n",
    "class Dog(Animal):\n",
    "    def __init__(self):\n",
    "        super(Dog, self).__init__()\n",
    "        print(\"From Dog class\")\n",
    "    \n",
    "    def sound(sound):\n",
    "        return sound\n",
    "    \n",
    "    \n",
    "    def whichclass(self):\n",
    "        return \"From Dog class\"\n",
    "    \n",
    "class Cat(Animal):\n",
    "    def __init__(self):\n",
    "        super(Cat, self).__init__()\n",
    "        print(\"From Cat class\")\n",
    "    \n",
    "    def sound(sound):\n",
    "        return sound\n",
    "    \n",
    "    def whichclass(self):\n",
    "        return \"From Cat class\""
   ]
  },
  {
   "cell_type": "code",
   "execution_count": 18,
   "id": "1cb9edb5",
   "metadata": {},
   "outputs": [
    {
     "name": "stdout",
     "output_type": "stream",
     "text": [
      "From Animal class\n",
      "From Dog class\n",
      "From Animal class\n",
      "From Cat class\n"
     ]
    }
   ],
   "source": [
    "animal = Dog()\n",
    "animal2 = Cat()"
   ]
  },
  {
   "cell_type": "code",
   "execution_count": null,
   "id": "89b310d9",
   "metadata": {},
   "outputs": [],
   "source": []
  }
 ],
 "metadata": {
  "kernelspec": {
   "display_name": "Python 3 (ipykernel)",
   "language": "python",
   "name": "python3"
  },
  "language_info": {
   "codemirror_mode": {
    "name": "ipython",
    "version": 3
   },
   "file_extension": ".py",
   "mimetype": "text/x-python",
   "name": "python",
   "nbconvert_exporter": "python",
   "pygments_lexer": "ipython3",
   "version": "3.9.7"
  }
 },
 "nbformat": 4,
 "nbformat_minor": 5
}
