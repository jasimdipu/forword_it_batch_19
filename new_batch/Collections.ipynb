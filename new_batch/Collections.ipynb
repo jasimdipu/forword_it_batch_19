{
 "cells": [
  {
   "cell_type": "code",
   "execution_count": 1,
   "id": "535a3bd2",
   "metadata": {},
   "outputs": [],
   "source": [
    "# List, tuple, set, dictionary"
   ]
  },
  {
   "cell_type": "markdown",
   "id": "51da5f3a",
   "metadata": {},
   "source": [
    "# List"
   ]
  },
  {
   "cell_type": "code",
   "execution_count": 2,
   "id": "3c8370eb",
   "metadata": {},
   "outputs": [],
   "source": [
    "l = []"
   ]
  },
  {
   "cell_type": "code",
   "execution_count": 3,
   "id": "ce2480a5",
   "metadata": {},
   "outputs": [
    {
     "data": {
      "text/plain": [
       "list"
      ]
     },
     "execution_count": 3,
     "metadata": {},
     "output_type": "execute_result"
    }
   ],
   "source": [
    "type(l)"
   ]
  },
  {
   "cell_type": "code",
   "execution_count": 4,
   "id": "97388ef4",
   "metadata": {},
   "outputs": [],
   "source": [
    "l = [1, 2, 3, 4.5, 5.5, 6.6, \"7\", \"8\", \"9\", True, False]"
   ]
  },
  {
   "cell_type": "code",
   "execution_count": 5,
   "id": "0b6c599c",
   "metadata": {},
   "outputs": [
    {
     "data": {
      "text/plain": [
       "[1, 2, 3, 4.5, 5.5, 6.6, '7', '8', '9', True, False]"
      ]
     },
     "execution_count": 5,
     "metadata": {},
     "output_type": "execute_result"
    }
   ],
   "source": [
    "l"
   ]
  },
  {
   "cell_type": "code",
   "execution_count": 6,
   "id": "87db08d0",
   "metadata": {},
   "outputs": [],
   "source": [
    "# indexing"
   ]
  },
  {
   "cell_type": "code",
   "execution_count": 7,
   "id": "f8adddb5",
   "metadata": {},
   "outputs": [
    {
     "data": {
      "text/plain": [
       "1"
      ]
     },
     "execution_count": 7,
     "metadata": {},
     "output_type": "execute_result"
    }
   ],
   "source": [
    "l[0]"
   ]
  },
  {
   "cell_type": "code",
   "execution_count": 8,
   "id": "5bb6e8c4",
   "metadata": {},
   "outputs": [
    {
     "data": {
      "text/plain": [
       "2"
      ]
     },
     "execution_count": 8,
     "metadata": {},
     "output_type": "execute_result"
    }
   ],
   "source": [
    "l[1]"
   ]
  },
  {
   "cell_type": "code",
   "execution_count": 9,
   "id": "0a9ee2b0",
   "metadata": {},
   "outputs": [
    {
     "data": {
      "text/plain": [
       "False"
      ]
     },
     "execution_count": 9,
     "metadata": {},
     "output_type": "execute_result"
    }
   ],
   "source": [
    "l[10]"
   ]
  },
  {
   "cell_type": "code",
   "execution_count": 10,
   "id": "851089f7",
   "metadata": {},
   "outputs": [
    {
     "ename": "IndexError",
     "evalue": "list index out of range",
     "output_type": "error",
     "traceback": [
      "\u001b[1;31m---------------------------------------------------------------------------\u001b[0m",
      "\u001b[1;31mIndexError\u001b[0m                                Traceback (most recent call last)",
      "\u001b[1;32m~\\AppData\\Local\\Temp/ipykernel_1828/483533348.py\u001b[0m in \u001b[0;36m<module>\u001b[1;34m\u001b[0m\n\u001b[1;32m----> 1\u001b[1;33m \u001b[0ml\u001b[0m\u001b[1;33m[\u001b[0m\u001b[1;36m11\u001b[0m\u001b[1;33m]\u001b[0m\u001b[1;33m\u001b[0m\u001b[1;33m\u001b[0m\u001b[0m\n\u001b[0m",
      "\u001b[1;31mIndexError\u001b[0m: list index out of range"
     ]
    }
   ],
   "source": [
    "l[11]"
   ]
  },
  {
   "cell_type": "code",
   "execution_count": 11,
   "id": "e27e0623",
   "metadata": {},
   "outputs": [],
   "source": [
    "# mutable\n",
    "l[0]=100"
   ]
  },
  {
   "cell_type": "code",
   "execution_count": 12,
   "id": "62eaa332",
   "metadata": {},
   "outputs": [
    {
     "data": {
      "text/plain": [
       "100"
      ]
     },
     "execution_count": 12,
     "metadata": {},
     "output_type": "execute_result"
    }
   ],
   "source": [
    "l[0]"
   ]
  },
  {
   "cell_type": "code",
   "execution_count": 13,
   "id": "49582bbf",
   "metadata": {},
   "outputs": [],
   "source": [
    "l[0]=1"
   ]
  },
  {
   "cell_type": "code",
   "execution_count": 14,
   "id": "fbeeb3af",
   "metadata": {},
   "outputs": [
    {
     "data": {
      "text/plain": [
       "1"
      ]
     },
     "execution_count": 14,
     "metadata": {},
     "output_type": "execute_result"
    }
   ],
   "source": [
    "l[0]"
   ]
  },
  {
   "cell_type": "code",
   "execution_count": 15,
   "id": "ea961aa3",
   "metadata": {},
   "outputs": [],
   "source": [
    "# Slicing"
   ]
  },
  {
   "cell_type": "code",
   "execution_count": 16,
   "id": "a6166db8",
   "metadata": {},
   "outputs": [
    {
     "data": {
      "text/plain": [
       "[3, 4.5, 5.5, 6.6, '7', '8', '9']"
      ]
     },
     "execution_count": 16,
     "metadata": {},
     "output_type": "execute_result"
    }
   ],
   "source": [
    "l[2:9]"
   ]
  },
  {
   "cell_type": "code",
   "execution_count": 17,
   "id": "d671ccf4",
   "metadata": {},
   "outputs": [
    {
     "data": {
      "text/plain": [
       "[2, 4.5, 6.6, '8']"
      ]
     },
     "execution_count": 17,
     "metadata": {},
     "output_type": "execute_result"
    }
   ],
   "source": [
    "l[1:9:2]"
   ]
  },
  {
   "cell_type": "code",
   "execution_count": 18,
   "id": "7945d41e",
   "metadata": {},
   "outputs": [
    {
     "data": {
      "text/plain": [
       "False"
      ]
     },
     "execution_count": 18,
     "metadata": {},
     "output_type": "execute_result"
    }
   ],
   "source": [
    "l[-1]"
   ]
  },
  {
   "cell_type": "code",
   "execution_count": 19,
   "id": "b321181f",
   "metadata": {},
   "outputs": [
    {
     "data": {
      "text/plain": [
       "['8', '9', True]"
      ]
     },
     "execution_count": 19,
     "metadata": {},
     "output_type": "execute_result"
    }
   ],
   "source": [
    "l[-4:-1]"
   ]
  },
  {
   "cell_type": "code",
   "execution_count": 20,
   "id": "86979127",
   "metadata": {},
   "outputs": [
    {
     "data": {
      "text/plain": [
       "[False, True, '9', '8', '7', 6.6, 5.5, 4.5, 3, 2, 1]"
      ]
     },
     "execution_count": 20,
     "metadata": {},
     "output_type": "execute_result"
    }
   ],
   "source": [
    "l[::-1]"
   ]
  },
  {
   "cell_type": "code",
   "execution_count": 21,
   "id": "6e33a1b8",
   "metadata": {},
   "outputs": [],
   "source": [
    "# nested list"
   ]
  },
  {
   "cell_type": "code",
   "execution_count": 22,
   "id": "60af91bc",
   "metadata": {},
   "outputs": [],
   "source": [
    "nes_lst = [[1, 2, 3], [4, 5, 6], [7, 8, 9]]"
   ]
  },
  {
   "cell_type": "code",
   "execution_count": 23,
   "id": "eef8f7d0",
   "metadata": {},
   "outputs": [
    {
     "data": {
      "text/plain": [
       "[[1, 2, 3], [4, 5, 6], [7, 8, 9]]"
      ]
     },
     "execution_count": 23,
     "metadata": {},
     "output_type": "execute_result"
    }
   ],
   "source": [
    "nes_lst"
   ]
  },
  {
   "cell_type": "code",
   "execution_count": 24,
   "id": "61c861d5",
   "metadata": {},
   "outputs": [
    {
     "data": {
      "text/plain": [
       "[1, 2, 3]"
      ]
     },
     "execution_count": 24,
     "metadata": {},
     "output_type": "execute_result"
    }
   ],
   "source": [
    "nes_lst[0]"
   ]
  },
  {
   "cell_type": "code",
   "execution_count": 25,
   "id": "05abbac9",
   "metadata": {},
   "outputs": [
    {
     "data": {
      "text/plain": [
       "2"
      ]
     },
     "execution_count": 25,
     "metadata": {},
     "output_type": "execute_result"
    }
   ],
   "source": [
    "nes_lst[0][1]"
   ]
  },
  {
   "cell_type": "code",
   "execution_count": 26,
   "id": "098f5af9",
   "metadata": {},
   "outputs": [],
   "source": [
    "# built in function"
   ]
  },
  {
   "cell_type": "code",
   "execution_count": 27,
   "id": "962c5850",
   "metadata": {},
   "outputs": [],
   "source": [
    "l.append(10)"
   ]
  },
  {
   "cell_type": "code",
   "execution_count": 28,
   "id": "fe41eb54",
   "metadata": {},
   "outputs": [
    {
     "data": {
      "text/plain": [
       "[1, 2, 3, 4.5, 5.5, 6.6, '7', '8', '9', True, False, 10]"
      ]
     },
     "execution_count": 28,
     "metadata": {},
     "output_type": "execute_result"
    }
   ],
   "source": [
    "l"
   ]
  },
  {
   "cell_type": "code",
   "execution_count": 29,
   "id": "90d25ef8",
   "metadata": {},
   "outputs": [],
   "source": [
    "l.append([11, 12, 13])"
   ]
  },
  {
   "cell_type": "code",
   "execution_count": 30,
   "id": "43cf2f92",
   "metadata": {},
   "outputs": [
    {
     "data": {
      "text/plain": [
       "[1, 2, 3, 4.5, 5.5, 6.6, '7', '8', '9', True, False, 10, [11, 12, 13]]"
      ]
     },
     "execution_count": 30,
     "metadata": {},
     "output_type": "execute_result"
    }
   ],
   "source": [
    "l"
   ]
  },
  {
   "cell_type": "code",
   "execution_count": 31,
   "id": "641f8259",
   "metadata": {},
   "outputs": [],
   "source": [
    "l2 = l.copy()"
   ]
  },
  {
   "cell_type": "code",
   "execution_count": 32,
   "id": "a4ed9694",
   "metadata": {},
   "outputs": [
    {
     "data": {
      "text/plain": [
       "[1, 2, 3, 4.5, 5.5, 6.6, '7', '8', '9', True, False, 10, [11, 12, 13]]"
      ]
     },
     "execution_count": 32,
     "metadata": {},
     "output_type": "execute_result"
    }
   ],
   "source": [
    "l2"
   ]
  },
  {
   "cell_type": "code",
   "execution_count": 33,
   "id": "5bf262f7",
   "metadata": {},
   "outputs": [],
   "source": [
    "l2.clear()"
   ]
  },
  {
   "cell_type": "code",
   "execution_count": 35,
   "id": "05b45b2e",
   "metadata": {},
   "outputs": [],
   "source": [
    "l2 = [1, 1, 2]"
   ]
  },
  {
   "cell_type": "code",
   "execution_count": 36,
   "id": "b5cf6186",
   "metadata": {},
   "outputs": [
    {
     "data": {
      "text/plain": [
       "2"
      ]
     },
     "execution_count": 36,
     "metadata": {},
     "output_type": "execute_result"
    }
   ],
   "source": [
    "l2.count(1)"
   ]
  },
  {
   "cell_type": "code",
   "execution_count": 37,
   "id": "7adbdba3",
   "metadata": {},
   "outputs": [],
   "source": [
    "l.extend([14, 15, 16])"
   ]
  },
  {
   "cell_type": "code",
   "execution_count": 38,
   "id": "6e59f20c",
   "metadata": {},
   "outputs": [
    {
     "data": {
      "text/plain": [
       "[1,\n",
       " 2,\n",
       " 3,\n",
       " 4.5,\n",
       " 5.5,\n",
       " 6.6,\n",
       " '7',\n",
       " '8',\n",
       " '9',\n",
       " True,\n",
       " False,\n",
       " 10,\n",
       " [11, 12, 13],\n",
       " 14,\n",
       " 15,\n",
       " 16]"
      ]
     },
     "execution_count": 38,
     "metadata": {},
     "output_type": "execute_result"
    }
   ],
   "source": [
    "l"
   ]
  },
  {
   "cell_type": "code",
   "execution_count": 39,
   "id": "d9178e91",
   "metadata": {},
   "outputs": [
    {
     "data": {
      "text/plain": [
       "14"
      ]
     },
     "execution_count": 39,
     "metadata": {},
     "output_type": "execute_result"
    }
   ],
   "source": [
    "l.index(15)"
   ]
  },
  {
   "cell_type": "code",
   "execution_count": 40,
   "id": "fe33ff16",
   "metadata": {},
   "outputs": [],
   "source": [
    "l.insert(0, 100)"
   ]
  },
  {
   "cell_type": "code",
   "execution_count": 41,
   "id": "a426e425",
   "metadata": {},
   "outputs": [
    {
     "data": {
      "text/plain": [
       "[100,\n",
       " 1,\n",
       " 2,\n",
       " 3,\n",
       " 4.5,\n",
       " 5.5,\n",
       " 6.6,\n",
       " '7',\n",
       " '8',\n",
       " '9',\n",
       " True,\n",
       " False,\n",
       " 10,\n",
       " [11, 12, 13],\n",
       " 14,\n",
       " 15,\n",
       " 16]"
      ]
     },
     "execution_count": 41,
     "metadata": {},
     "output_type": "execute_result"
    }
   ],
   "source": [
    "l"
   ]
  },
  {
   "cell_type": "code",
   "execution_count": 42,
   "id": "1aad6d3a",
   "metadata": {},
   "outputs": [
    {
     "data": {
      "text/plain": [
       "16"
      ]
     },
     "execution_count": 42,
     "metadata": {},
     "output_type": "execute_result"
    }
   ],
   "source": [
    "l.pop()"
   ]
  },
  {
   "cell_type": "code",
   "execution_count": 43,
   "id": "af3fb1e2",
   "metadata": {},
   "outputs": [
    {
     "data": {
      "text/plain": [
       "[100,\n",
       " 1,\n",
       " 2,\n",
       " 3,\n",
       " 4.5,\n",
       " 5.5,\n",
       " 6.6,\n",
       " '7',\n",
       " '8',\n",
       " '9',\n",
       " True,\n",
       " False,\n",
       " 10,\n",
       " [11, 12, 13],\n",
       " 14,\n",
       " 15]"
      ]
     },
     "execution_count": 43,
     "metadata": {},
     "output_type": "execute_result"
    }
   ],
   "source": [
    "l"
   ]
  },
  {
   "cell_type": "code",
   "execution_count": 44,
   "id": "2734b83d",
   "metadata": {},
   "outputs": [
    {
     "data": {
      "text/plain": [
       "14"
      ]
     },
     "execution_count": 44,
     "metadata": {},
     "output_type": "execute_result"
    }
   ],
   "source": [
    "l.pop(14)"
   ]
  },
  {
   "cell_type": "code",
   "execution_count": 45,
   "id": "3304cbf1",
   "metadata": {},
   "outputs": [
    {
     "data": {
      "text/plain": [
       "[11, 12, 13]"
      ]
     },
     "execution_count": 45,
     "metadata": {},
     "output_type": "execute_result"
    }
   ],
   "source": [
    "l.pop(13)"
   ]
  },
  {
   "cell_type": "code",
   "execution_count": 46,
   "id": "d17aa9b9",
   "metadata": {},
   "outputs": [
    {
     "data": {
      "text/plain": [
       "[100, 1, 2, 3, 4.5, 5.5, 6.6, '7', '8', '9', True, False, 10, 15]"
      ]
     },
     "execution_count": 46,
     "metadata": {},
     "output_type": "execute_result"
    }
   ],
   "source": [
    "l"
   ]
  },
  {
   "cell_type": "code",
   "execution_count": 47,
   "id": "02840a85",
   "metadata": {},
   "outputs": [],
   "source": [
    "l.remove(100)"
   ]
  },
  {
   "cell_type": "code",
   "execution_count": 48,
   "id": "aea86bf2",
   "metadata": {},
   "outputs": [
    {
     "data": {
      "text/plain": [
       "[1, 2, 3, 4.5, 5.5, 6.6, '7', '8', '9', True, False, 10, 15]"
      ]
     },
     "execution_count": 48,
     "metadata": {},
     "output_type": "execute_result"
    }
   ],
   "source": [
    "l"
   ]
  },
  {
   "cell_type": "code",
   "execution_count": 49,
   "id": "1dd67287",
   "metadata": {},
   "outputs": [],
   "source": [
    "l.reverse()"
   ]
  },
  {
   "cell_type": "code",
   "execution_count": 50,
   "id": "51453154",
   "metadata": {},
   "outputs": [
    {
     "data": {
      "text/plain": [
       "[15, 10, False, True, '9', '8', '7', 6.6, 5.5, 4.5, 3, 2, 1]"
      ]
     },
     "execution_count": 50,
     "metadata": {},
     "output_type": "execute_result"
    }
   ],
   "source": [
    "l"
   ]
  },
  {
   "cell_type": "code",
   "execution_count": 51,
   "id": "ba0c5009",
   "metadata": {},
   "outputs": [
    {
     "data": {
      "text/plain": [
       "[1, 1, 2]"
      ]
     },
     "execution_count": 51,
     "metadata": {},
     "output_type": "execute_result"
    }
   ],
   "source": [
    "l2"
   ]
  },
  {
   "cell_type": "code",
   "execution_count": 52,
   "id": "e6b79f88",
   "metadata": {},
   "outputs": [
    {
     "data": {
      "text/plain": [
       "[5, 8, 5, 2, 98, 74, 5, 8, 41, 5]"
      ]
     },
     "execution_count": 52,
     "metadata": {},
     "output_type": "execute_result"
    }
   ],
   "source": [
    "l2 = [5,8,5,2,98,74,5,8,41,5]\n",
    "l2"
   ]
  },
  {
   "cell_type": "code",
   "execution_count": 53,
   "id": "16f506bc",
   "metadata": {},
   "outputs": [],
   "source": [
    "l2.sort()"
   ]
  },
  {
   "cell_type": "code",
   "execution_count": 55,
   "id": "f292fb30",
   "metadata": {},
   "outputs": [
    {
     "data": {
      "text/plain": [
       "[2, 5, 5, 5, 5, 8, 8, 41, 74, 98]"
      ]
     },
     "execution_count": 55,
     "metadata": {},
     "output_type": "execute_result"
    }
   ],
   "source": [
    "l2"
   ]
  },
  {
   "cell_type": "code",
   "execution_count": 56,
   "id": "ed3337ba",
   "metadata": {},
   "outputs": [],
   "source": [
    "l2.sort(reverse=True)"
   ]
  },
  {
   "cell_type": "code",
   "execution_count": 57,
   "id": "9ab00158",
   "metadata": {},
   "outputs": [
    {
     "data": {
      "text/plain": [
       "[98, 74, 41, 8, 8, 5, 5, 5, 5, 2]"
      ]
     },
     "execution_count": 57,
     "metadata": {},
     "output_type": "execute_result"
    }
   ],
   "source": [
    "l2"
   ]
  },
  {
   "cell_type": "code",
   "execution_count": 98,
   "id": "034694a7",
   "metadata": {},
   "outputs": [
    {
     "name": "stdout",
     "output_type": "stream",
     "text": [
      "15\n",
      "10\n",
      "False\n",
      "True\n",
      "9\n",
      "8\n",
      "7\n",
      "6.6\n",
      "5.5\n",
      "4.5\n",
      "3\n",
      "2\n",
      "1\n"
     ]
    }
   ],
   "source": [
    "for i in l:\n",
    "    print(i)"
   ]
  },
  {
   "cell_type": "markdown",
   "id": "c28ba092",
   "metadata": {},
   "source": [
    "# Tuple"
   ]
  },
  {
   "cell_type": "code",
   "execution_count": 58,
   "id": "b1b23027",
   "metadata": {},
   "outputs": [],
   "source": [
    "t = ()"
   ]
  },
  {
   "cell_type": "code",
   "execution_count": 59,
   "id": "8054db19",
   "metadata": {},
   "outputs": [
    {
     "data": {
      "text/plain": [
       "tuple"
      ]
     },
     "execution_count": 59,
     "metadata": {},
     "output_type": "execute_result"
    }
   ],
   "source": [
    "type(t)"
   ]
  },
  {
   "cell_type": "code",
   "execution_count": 60,
   "id": "338fce4c",
   "metadata": {},
   "outputs": [],
   "source": [
    "t = (12, 3, 2 ,35, 5, 4, 56, 54)"
   ]
  },
  {
   "cell_type": "code",
   "execution_count": 61,
   "id": "01da4be8",
   "metadata": {},
   "outputs": [
    {
     "data": {
      "text/plain": [
       "12"
      ]
     },
     "execution_count": 61,
     "metadata": {},
     "output_type": "execute_result"
    }
   ],
   "source": [
    "t[0]"
   ]
  },
  {
   "cell_type": "code",
   "execution_count": 62,
   "id": "982ad201",
   "metadata": {},
   "outputs": [
    {
     "ename": "TypeError",
     "evalue": "'tuple' object does not support item assignment",
     "output_type": "error",
     "traceback": [
      "\u001b[1;31m---------------------------------------------------------------------------\u001b[0m",
      "\u001b[1;31mTypeError\u001b[0m                                 Traceback (most recent call last)",
      "\u001b[1;32m~\\AppData\\Local\\Temp/ipykernel_1828/2280978330.py\u001b[0m in \u001b[0;36m<module>\u001b[1;34m\u001b[0m\n\u001b[1;32m----> 1\u001b[1;33m \u001b[0mt\u001b[0m\u001b[1;33m[\u001b[0m\u001b[1;36m0\u001b[0m\u001b[1;33m]\u001b[0m \u001b[1;33m=\u001b[0m \u001b[1;36m120\u001b[0m\u001b[1;33m\u001b[0m\u001b[1;33m\u001b[0m\u001b[0m\n\u001b[0m",
      "\u001b[1;31mTypeError\u001b[0m: 'tuple' object does not support item assignment"
     ]
    }
   ],
   "source": [
    "t[0] = 120"
   ]
  },
  {
   "cell_type": "code",
   "execution_count": 63,
   "id": "f2809f4c",
   "metadata": {},
   "outputs": [],
   "source": [
    "# built in func"
   ]
  },
  {
   "cell_type": "code",
   "execution_count": 64,
   "id": "fd124d48",
   "metadata": {},
   "outputs": [
    {
     "data": {
      "text/plain": [
       "0"
      ]
     },
     "execution_count": 64,
     "metadata": {},
     "output_type": "execute_result"
    }
   ],
   "source": [
    "t.index(12)"
   ]
  },
  {
   "cell_type": "code",
   "execution_count": 65,
   "id": "ce90ca91",
   "metadata": {},
   "outputs": [
    {
     "data": {
      "text/plain": [
       "1"
      ]
     },
     "execution_count": 65,
     "metadata": {},
     "output_type": "execute_result"
    }
   ],
   "source": [
    "t.count(35)"
   ]
  },
  {
   "cell_type": "markdown",
   "id": "9d639e78",
   "metadata": {},
   "source": [
    "# Set"
   ]
  },
  {
   "cell_type": "code",
   "execution_count": 75,
   "id": "91737d3e",
   "metadata": {},
   "outputs": [
    {
     "data": {
      "text/plain": [
       "{10, 20, 30, 40, 49, 50, 58, 60, 84}"
      ]
     },
     "execution_count": 75,
     "metadata": {},
     "output_type": "execute_result"
    }
   ],
   "source": [
    "s = {10, 20, 49, 20, 58, 84, 30, 30, 30, 40, 50, 50, 60, 60}\n",
    "s2 = {49, 20, 58, 84, 30, 30, 30, 40}\n",
    "s3 = {100, 200, 409, 238, 712}\n",
    "s4 = {87, 47, 15, 10, 40, 17, 20}\n",
    "s5 = {20}\n",
    "s"
   ]
  },
  {
   "cell_type": "code",
   "execution_count": 67,
   "id": "6a6a909f",
   "metadata": {},
   "outputs": [
    {
     "data": {
      "text/plain": [
       "dict"
      ]
     },
     "execution_count": 67,
     "metadata": {},
     "output_type": "execute_result"
    }
   ],
   "source": [
    "type(s)"
   ]
  },
  {
   "cell_type": "code",
   "execution_count": 70,
   "id": "acee80c7",
   "metadata": {},
   "outputs": [],
   "source": [
    "# built in functions"
   ]
  },
  {
   "cell_type": "code",
   "execution_count": 71,
   "id": "372f86f6",
   "metadata": {},
   "outputs": [],
   "source": [
    "s.add(100)"
   ]
  },
  {
   "cell_type": "code",
   "execution_count": 72,
   "id": "1ffbe0e5",
   "metadata": {},
   "outputs": [
    {
     "data": {
      "text/plain": [
       "{10, 20, 30, 40, 49, 50, 58, 60, 84, 100}"
      ]
     },
     "execution_count": 72,
     "metadata": {},
     "output_type": "execute_result"
    }
   ],
   "source": [
    "s"
   ]
  },
  {
   "cell_type": "code",
   "execution_count": 74,
   "id": "64c9811b",
   "metadata": {},
   "outputs": [
    {
     "data": {
      "text/plain": [
       "{30, 49, 50, 58, 60, 84}"
      ]
     },
     "execution_count": 74,
     "metadata": {},
     "output_type": "execute_result"
    }
   ],
   "source": [
    "s.difference(s4)"
   ]
  },
  {
   "cell_type": "code",
   "execution_count": 76,
   "id": "19077457",
   "metadata": {},
   "outputs": [],
   "source": [
    "s.discard(s5)"
   ]
  },
  {
   "cell_type": "code",
   "execution_count": 77,
   "id": "2796de37",
   "metadata": {},
   "outputs": [
    {
     "data": {
      "text/plain": [
       "{10, 20, 30, 40, 49, 50, 58, 60, 84}"
      ]
     },
     "execution_count": 77,
     "metadata": {},
     "output_type": "execute_result"
    }
   ],
   "source": [
    "s"
   ]
  },
  {
   "cell_type": "code",
   "execution_count": 78,
   "id": "e7d3a489",
   "metadata": {},
   "outputs": [
    {
     "data": {
      "text/plain": [
       "{20}"
      ]
     },
     "execution_count": 78,
     "metadata": {},
     "output_type": "execute_result"
    }
   ],
   "source": [
    "s5"
   ]
  },
  {
   "cell_type": "code",
   "execution_count": 79,
   "id": "9b408a3d",
   "metadata": {},
   "outputs": [
    {
     "data": {
      "text/plain": [
       "{20, 30, 40, 49, 58, 84}"
      ]
     },
     "execution_count": 79,
     "metadata": {},
     "output_type": "execute_result"
    }
   ],
   "source": [
    "s.intersection(s2)"
   ]
  },
  {
   "cell_type": "code",
   "execution_count": 80,
   "id": "0691420e",
   "metadata": {},
   "outputs": [
    {
     "data": {
      "text/plain": [
       "False"
      ]
     },
     "execution_count": 80,
     "metadata": {},
     "output_type": "execute_result"
    }
   ],
   "source": [
    "s.isdisjoint(s2)"
   ]
  },
  {
   "cell_type": "code",
   "execution_count": 81,
   "id": "f0a65d42",
   "metadata": {},
   "outputs": [
    {
     "data": {
      "text/plain": [
       "True"
      ]
     },
     "execution_count": 81,
     "metadata": {},
     "output_type": "execute_result"
    }
   ],
   "source": [
    "s.isdisjoint(s3)"
   ]
  },
  {
   "cell_type": "code",
   "execution_count": 82,
   "id": "43c0827a",
   "metadata": {},
   "outputs": [
    {
     "data": {
      "text/plain": [
       "False"
      ]
     },
     "execution_count": 82,
     "metadata": {},
     "output_type": "execute_result"
    }
   ],
   "source": [
    "s.issubset(s2)"
   ]
  },
  {
   "cell_type": "code",
   "execution_count": 83,
   "id": "6ab63121",
   "metadata": {},
   "outputs": [
    {
     "data": {
      "text/plain": [
       "True"
      ]
     },
     "execution_count": 83,
     "metadata": {},
     "output_type": "execute_result"
    }
   ],
   "source": [
    "s2.issubset(s)"
   ]
  },
  {
   "cell_type": "code",
   "execution_count": 84,
   "id": "671fdddb",
   "metadata": {},
   "outputs": [
    {
     "data": {
      "text/plain": [
       "True"
      ]
     },
     "execution_count": 84,
     "metadata": {},
     "output_type": "execute_result"
    }
   ],
   "source": [
    "s.issuperset(s2)"
   ]
  },
  {
   "cell_type": "code",
   "execution_count": 85,
   "id": "87e72ac8",
   "metadata": {},
   "outputs": [
    {
     "data": {
      "text/plain": [
       "{15, 17, 30, 47, 49, 50, 58, 60, 84, 87}"
      ]
     },
     "execution_count": 85,
     "metadata": {},
     "output_type": "execute_result"
    }
   ],
   "source": [
    "s.symmetric_difference(s4)"
   ]
  },
  {
   "cell_type": "code",
   "execution_count": 86,
   "id": "cd5d2de8",
   "metadata": {},
   "outputs": [
    {
     "data": {
      "text/plain": [
       "{10, 15, 17, 20, 30, 40, 47, 49, 50, 58, 60, 84, 87}"
      ]
     },
     "execution_count": 86,
     "metadata": {},
     "output_type": "execute_result"
    }
   ],
   "source": [
    "s.union(s4)"
   ]
  },
  {
   "cell_type": "code",
   "execution_count": 87,
   "id": "a28de1c1",
   "metadata": {},
   "outputs": [],
   "source": [
    "s.update(s4)"
   ]
  },
  {
   "cell_type": "code",
   "execution_count": 88,
   "id": "b0340178",
   "metadata": {},
   "outputs": [
    {
     "data": {
      "text/plain": [
       "{10, 15, 17, 20, 30, 40, 47, 49, 50, 58, 60, 84, 87}"
      ]
     },
     "execution_count": 88,
     "metadata": {},
     "output_type": "execute_result"
    }
   ],
   "source": [
    "s"
   ]
  },
  {
   "cell_type": "markdown",
   "id": "eac1c74b",
   "metadata": {},
   "source": [
    "# Dictionary"
   ]
  },
  {
   "cell_type": "code",
   "execution_count": 89,
   "id": "f3269aea",
   "metadata": {},
   "outputs": [],
   "source": [
    "d = {\"key\": \"value\"}"
   ]
  },
  {
   "cell_type": "code",
   "execution_count": 90,
   "id": "16a14d07",
   "metadata": {},
   "outputs": [
    {
     "data": {
      "text/plain": [
       "{'key': 'value'}"
      ]
     },
     "execution_count": 90,
     "metadata": {},
     "output_type": "execute_result"
    }
   ],
   "source": [
    "d"
   ]
  },
  {
   "cell_type": "code",
   "execution_count": 91,
   "id": "40a51103",
   "metadata": {},
   "outputs": [
    {
     "data": {
      "text/plain": [
       "'value'"
      ]
     },
     "execution_count": 91,
     "metadata": {},
     "output_type": "execute_result"
    }
   ],
   "source": [
    "d['key']"
   ]
  },
  {
   "cell_type": "code",
   "execution_count": 92,
   "id": "30370f25",
   "metadata": {},
   "outputs": [],
   "source": [
    "d = {\"key1\": \"value1\", \"key2\": \"value2\", 1:100, 2.5:250}"
   ]
  },
  {
   "cell_type": "code",
   "execution_count": 93,
   "id": "aac2b89c",
   "metadata": {},
   "outputs": [
    {
     "data": {
      "text/plain": [
       "{'key1': 'value1', 'key2': 'value2', 1: 100, 2.5: 250}"
      ]
     },
     "execution_count": 93,
     "metadata": {},
     "output_type": "execute_result"
    }
   ],
   "source": [
    "d"
   ]
  },
  {
   "cell_type": "code",
   "execution_count": 94,
   "id": "bac3083c",
   "metadata": {},
   "outputs": [
    {
     "data": {
      "text/plain": [
       "'value1'"
      ]
     },
     "execution_count": 94,
     "metadata": {},
     "output_type": "execute_result"
    }
   ],
   "source": [
    "d['key1']"
   ]
  },
  {
   "cell_type": "code",
   "execution_count": 95,
   "id": "c97cc0d3",
   "metadata": {},
   "outputs": [
    {
     "data": {
      "text/plain": [
       "dict_keys(['key1', 'key2', 1, 2.5])"
      ]
     },
     "execution_count": 95,
     "metadata": {},
     "output_type": "execute_result"
    }
   ],
   "source": [
    "d.keys()"
   ]
  },
  {
   "cell_type": "code",
   "execution_count": 96,
   "id": "181b18fa",
   "metadata": {},
   "outputs": [
    {
     "data": {
      "text/plain": [
       "dict_values(['value1', 'value2', 100, 250])"
      ]
     },
     "execution_count": 96,
     "metadata": {},
     "output_type": "execute_result"
    }
   ],
   "source": [
    "d.values()"
   ]
  },
  {
   "cell_type": "code",
   "execution_count": 100,
   "id": "5ee06b30",
   "metadata": {},
   "outputs": [
    {
     "name": "stdout",
     "output_type": "stream",
     "text": [
      "key1 value1\n",
      "key2 value2\n",
      "1 100\n",
      "2.5 250\n"
     ]
    }
   ],
   "source": [
    "for key, value in d.items():\n",
    "    print(key, value)"
   ]
  },
  {
   "cell_type": "code",
   "execution_count": 101,
   "id": "a2b8bdde",
   "metadata": {},
   "outputs": [
    {
     "data": {
      "text/plain": [
       "'value1'"
      ]
     },
     "execution_count": 101,
     "metadata": {},
     "output_type": "execute_result"
    }
   ],
   "source": [
    "d.get('key1')"
   ]
  },
  {
   "cell_type": "code",
   "execution_count": null,
   "id": "4515ceed",
   "metadata": {},
   "outputs": [],
   "source": []
  }
 ],
 "metadata": {
  "kernelspec": {
   "display_name": "Python 3 (ipykernel)",
   "language": "python",
   "name": "python3"
  },
  "language_info": {
   "codemirror_mode": {
    "name": "ipython",
    "version": 3
   },
   "file_extension": ".py",
   "mimetype": "text/x-python",
   "name": "python",
   "nbconvert_exporter": "python",
   "pygments_lexer": "ipython3",
   "version": "3.9.7"
  }
 },
 "nbformat": 4,
 "nbformat_minor": 5
}
