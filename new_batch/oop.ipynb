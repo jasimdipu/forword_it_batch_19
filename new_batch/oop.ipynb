{
 "cells": [
  {
   "cell_type": "code",
   "execution_count": 15,
   "id": "67476064",
   "metadata": {},
   "outputs": [],
   "source": [
    "# Model class\n",
    "class Student:\n",
    "    # properties -> attr, functions -> built in, custom\n",
    "    # Global variable\n",
    "    name = \"\"\n",
    "    dept = \"\"\n",
    "    \n",
    "    # constructor\n",
    "    def __init__(self, name, dept):\n",
    "        self.name = name\n",
    "        self.dept = dept\n",
    "        \n",
    "    def getName(self):\n",
    "        return self.name\n",
    "    \n",
    "    def getDept(self):\n",
    "        return self.dept\n",
    "    \n",
    "    def __str__(self):\n",
    "        return self.name +\" \"+ self.dept"
   ]
  },
  {
   "cell_type": "code",
   "execution_count": 16,
   "id": "d2ef9b0c",
   "metadata": {},
   "outputs": [],
   "source": [
    "# object\n",
    "student = Student(\"Shamim\", \"EEE\")"
   ]
  },
  {
   "cell_type": "code",
   "execution_count": 5,
   "id": "646b3c35",
   "metadata": {},
   "outputs": [
    {
     "data": {
      "text/plain": [
       "'Shamim'"
      ]
     },
     "execution_count": 5,
     "metadata": {},
     "output_type": "execute_result"
    }
   ],
   "source": [
    "student.name"
   ]
  },
  {
   "cell_type": "code",
   "execution_count": 6,
   "id": "69ccc017",
   "metadata": {},
   "outputs": [
    {
     "data": {
      "text/plain": [
       "'EEE'"
      ]
     },
     "execution_count": 6,
     "metadata": {},
     "output_type": "execute_result"
    }
   ],
   "source": [
    "student.dept"
   ]
  },
  {
   "cell_type": "code",
   "execution_count": 7,
   "id": "1a4a9087",
   "metadata": {},
   "outputs": [],
   "source": [
    "student.name = \"Tamim\""
   ]
  },
  {
   "cell_type": "code",
   "execution_count": 8,
   "id": "af83751f",
   "metadata": {},
   "outputs": [
    {
     "data": {
      "text/plain": [
       "'Tamim'"
      ]
     },
     "execution_count": 8,
     "metadata": {},
     "output_type": "execute_result"
    }
   ],
   "source": [
    "student.name"
   ]
  },
  {
   "cell_type": "code",
   "execution_count": 9,
   "id": "1d21607c",
   "metadata": {},
   "outputs": [
    {
     "data": {
      "text/plain": [
       "'Tamim'"
      ]
     },
     "execution_count": 9,
     "metadata": {},
     "output_type": "execute_result"
    }
   ],
   "source": [
    "student.getName()"
   ]
  },
  {
   "cell_type": "code",
   "execution_count": 10,
   "id": "ed9217c4",
   "metadata": {},
   "outputs": [
    {
     "data": {
      "text/plain": [
       "'EEE'"
      ]
     },
     "execution_count": 10,
     "metadata": {},
     "output_type": "execute_result"
    }
   ],
   "source": [
    "student.getDept()"
   ]
  },
  {
   "cell_type": "code",
   "execution_count": 11,
   "id": "164adff5",
   "metadata": {},
   "outputs": [
    {
     "name": "stdout",
     "output_type": "stream",
     "text": [
      "<__main__.Student object at 0x0000023A972B1220>\n"
     ]
    }
   ],
   "source": [
    "print(student)"
   ]
  },
  {
   "cell_type": "code",
   "execution_count": 17,
   "id": "7169fac3",
   "metadata": {},
   "outputs": [
    {
     "name": "stdout",
     "output_type": "stream",
     "text": [
      "Shamim EEE\n"
     ]
    }
   ],
   "source": [
    "print(student)"
   ]
  },
  {
   "cell_type": "code",
   "execution_count": null,
   "id": "17cd8670",
   "metadata": {},
   "outputs": [],
   "source": []
  }
 ],
 "metadata": {
  "kernelspec": {
   "display_name": "Python 3 (ipykernel)",
   "language": "python",
   "name": "python3"
  },
  "language_info": {
   "codemirror_mode": {
    "name": "ipython",
    "version": 3
   },
   "file_extension": ".py",
   "mimetype": "text/x-python",
   "name": "python",
   "nbconvert_exporter": "python",
   "pygments_lexer": "ipython3",
   "version": "3.9.7"
  }
 },
 "nbformat": 4,
 "nbformat_minor": 5
}
