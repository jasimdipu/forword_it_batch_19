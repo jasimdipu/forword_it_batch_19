{
 "cells": [
  {
   "cell_type": "code",
   "execution_count": 2,
   "id": "7fc929a6",
   "metadata": {},
   "outputs": [
    {
     "data": {
      "text/plain": [
       "100"
      ]
     },
     "execution_count": 2,
     "metadata": {},
     "output_type": "execute_result"
    }
   ],
   "source": [
    "a = 100\n",
    "a"
   ]
  },
  {
   "cell_type": "code",
   "execution_count": 3,
   "id": "26e59c59",
   "metadata": {},
   "outputs": [
    {
     "data": {
      "text/plain": [
       "2345931527632"
      ]
     },
     "execution_count": 3,
     "metadata": {},
     "output_type": "execute_result"
    }
   ],
   "source": [
    "id(a)"
   ]
  },
  {
   "cell_type": "code",
   "execution_count": 6,
   "id": "cf72d3c1",
   "metadata": {},
   "outputs": [
    {
     "data": {
      "text/plain": [
       "('tarek', 'foysal')"
      ]
     },
     "execution_count": 6,
     "metadata": {},
     "output_type": "execute_result"
    }
   ],
   "source": [
    "name, Name = \"tarek\", \"foysal\"\n",
    "name, Name"
   ]
  },
  {
   "cell_type": "code",
   "execution_count": 7,
   "id": "c7916d4f",
   "metadata": {},
   "outputs": [],
   "source": [
    "# int, float, string, bool"
   ]
  },
  {
   "cell_type": "code",
   "execution_count": 9,
   "id": "3ac02930",
   "metadata": {},
   "outputs": [
    {
     "name": "stdout",
     "output_type": "stream",
     "text": [
      "\n"
     ]
    }
   ],
   "source": [
    "\"\"\"\n",
    "int\n",
    "float\n",
    "string\n",
    "boolean\n",
    "\"\"\"\n",
    "print()"
   ]
  },
  {
   "cell_type": "code",
   "execution_count": 10,
   "id": "0f6a105f",
   "metadata": {},
   "outputs": [],
   "source": [
    "int_val = 100\n",
    "float_val = 50.50\n",
    "string_val = \"sdf100\"\n",
    "boolean = True"
   ]
  },
  {
   "cell_type": "code",
   "execution_count": 11,
   "id": "ca865f3a",
   "metadata": {},
   "outputs": [
    {
     "data": {
      "text/plain": [
       "int"
      ]
     },
     "execution_count": 11,
     "metadata": {},
     "output_type": "execute_result"
    }
   ],
   "source": [
    "type(int_val)"
   ]
  },
  {
   "cell_type": "markdown",
   "id": "c358231e",
   "metadata": {},
   "source": [
    "# condition"
   ]
  },
  {
   "cell_type": "markdown",
   "id": "7efadf2f",
   "metadata": {},
   "source": [
    "### statement"
   ]
  },
  {
   "cell_type": "code",
   "execution_count": 16,
   "id": "3dfcdc89",
   "metadata": {},
   "outputs": [
    {
     "name": "stdout",
     "output_type": "stream",
     "text": [
      "Not suff\n",
      "i can buy\n"
     ]
    }
   ],
   "source": [
    "# i have 10 taka\n",
    "money = 6\n",
    "chocolate = 5\n",
    "if money < 10:\n",
    "    print(\"Not suff\")\n",
    "    if chocolate >= 4:\n",
    "        print(\"i can buy\")\n",
    "    else:\n",
    "        print(\"i cant buy\")\n",
    "else:\n",
    "    print(\"suff\")"
   ]
  },
  {
   "cell_type": "markdown",
   "id": "074148a7",
   "metadata": {},
   "source": [
    "# Loop"
   ]
  },
  {
   "cell_type": "code",
   "execution_count": 25,
   "id": "c9161384",
   "metadata": {},
   "outputs": [
    {
     "name": "stdout",
     "output_type": "stream",
     "text": [
      "0\n",
      "1\n",
      "2\n",
      "3\n",
      "4\n",
      "5\n",
      "6\n",
      "7\n",
      "8\n",
      "9\n"
     ]
    }
   ],
   "source": [
    "# for, while\n",
    "for i in range(0, 10):\n",
    "    print(i)"
   ]
  },
  {
   "cell_type": "code",
   "execution_count": 26,
   "id": "ded4b8e8",
   "metadata": {},
   "outputs": [
    {
     "name": "stdout",
     "output_type": "stream",
     "text": [
      "4\n",
      "5\n",
      "6\n",
      "7\n",
      "8\n",
      "9\n",
      "10\n"
     ]
    }
   ],
   "source": [
    "i = 4\n",
    "n = 10\n",
    "while i <= n:\n",
    "    print(i)\n",
    "    i += 1"
   ]
  },
  {
   "cell_type": "code",
   "execution_count": 27,
   "id": "741f0fed",
   "metadata": {},
   "outputs": [],
   "source": [
    "# Logic Gate"
   ]
  },
  {
   "cell_type": "code",
   "execution_count": 28,
   "id": "561a6cc3",
   "metadata": {},
   "outputs": [
    {
     "data": {
      "text/plain": [
       "1"
      ]
     },
     "execution_count": 28,
     "metadata": {},
     "output_type": "execute_result"
    }
   ],
   "source": [
    "# and or not xor\n",
    "1 and 1"
   ]
  },
  {
   "cell_type": "code",
   "execution_count": 29,
   "id": "84a87478",
   "metadata": {},
   "outputs": [
    {
     "data": {
      "text/plain": [
       "0"
      ]
     },
     "execution_count": 29,
     "metadata": {},
     "output_type": "execute_result"
    }
   ],
   "source": [
    "1 and 0"
   ]
  },
  {
   "cell_type": "code",
   "execution_count": 30,
   "id": "afaf39cd",
   "metadata": {},
   "outputs": [
    {
     "data": {
      "text/plain": [
       "1"
      ]
     },
     "execution_count": 30,
     "metadata": {},
     "output_type": "execute_result"
    }
   ],
   "source": [
    "1 or 0"
   ]
  },
  {
   "cell_type": "code",
   "execution_count": 31,
   "id": "235a4044",
   "metadata": {},
   "outputs": [
    {
     "data": {
      "text/plain": [
       "True"
      ]
     },
     "execution_count": 31,
     "metadata": {},
     "output_type": "execute_result"
    }
   ],
   "source": [
    "not 0"
   ]
  },
  {
   "cell_type": "code",
   "execution_count": 32,
   "id": "777897cb",
   "metadata": {},
   "outputs": [
    {
     "data": {
      "text/plain": [
       "False"
      ]
     },
     "execution_count": 32,
     "metadata": {},
     "output_type": "execute_result"
    }
   ],
   "source": [
    "not 1"
   ]
  },
  {
   "cell_type": "code",
   "execution_count": 33,
   "id": "4302350c",
   "metadata": {},
   "outputs": [
    {
     "data": {
      "text/plain": [
       "8"
      ]
     },
     "execution_count": 33,
     "metadata": {},
     "output_type": "execute_result"
    }
   ],
   "source": [
    "10^2"
   ]
  },
  {
   "cell_type": "code",
   "execution_count": 34,
   "id": "0f6021fc",
   "metadata": {},
   "outputs": [
    {
     "data": {
      "text/plain": [
       "40"
      ]
     },
     "execution_count": 34,
     "metadata": {},
     "output_type": "execute_result"
    }
   ],
   "source": [
    "a = 10\n",
    "a << 2"
   ]
  },
  {
   "cell_type": "code",
   "execution_count": 36,
   "id": "7b8d7b69",
   "metadata": {},
   "outputs": [
    {
     "data": {
      "text/plain": [
       "2"
      ]
     },
     "execution_count": 36,
     "metadata": {},
     "output_type": "execute_result"
    }
   ],
   "source": [
    "a = 10\n",
    "a >> 2"
   ]
  },
  {
   "cell_type": "code",
   "execution_count": 41,
   "id": "1d9d8c30",
   "metadata": {},
   "outputs": [
    {
     "name": "stdout",
     "output_type": "stream",
     "text": [
      "11\n",
      "10\n",
      "100\n",
      "10.0\n"
     ]
    }
   ],
   "source": [
    "i = 10\n",
    "i += 1\n",
    "print(i)\n",
    "i -= 1\n",
    "print(i)\n",
    "i *= 10\n",
    "print(i)\n",
    "i /= 10\n",
    "print(i)"
   ]
  },
  {
   "cell_type": "markdown",
   "id": "c7b2547e",
   "metadata": {},
   "source": [
    "# functions"
   ]
  },
  {
   "cell_type": "code",
   "execution_count": 48,
   "id": "515c0f73",
   "metadata": {},
   "outputs": [
    {
     "name": "stdout",
     "output_type": "stream",
     "text": [
      "Enter the number655.1654\n"
     ]
    },
    {
     "data": {
      "text/plain": [
       "655.1654"
      ]
     },
     "execution_count": 48,
     "metadata": {},
     "output_type": "execute_result"
    }
   ],
   "source": [
    "num = float(input(\"Enter the number\"))\n",
    "num"
   ]
  },
  {
   "cell_type": "code",
   "execution_count": 49,
   "id": "7a60fb3c",
   "metadata": {},
   "outputs": [
    {
     "data": {
      "text/plain": [
       "float"
      ]
     },
     "execution_count": 49,
     "metadata": {},
     "output_type": "execute_result"
    }
   ],
   "source": [
    "type(num)"
   ]
  },
  {
   "cell_type": "code",
   "execution_count": 50,
   "id": "3130439b",
   "metadata": {},
   "outputs": [],
   "source": [
    "int_val = 68489846546849849685465468496849684"
   ]
  },
  {
   "cell_type": "code",
   "execution_count": 51,
   "id": "74d91029",
   "metadata": {},
   "outputs": [
    {
     "data": {
      "text/plain": [
       "68489846546849849685465468496849684"
      ]
     },
     "execution_count": 51,
     "metadata": {},
     "output_type": "execute_result"
    }
   ],
   "source": [
    "int_val"
   ]
  },
  {
   "cell_type": "code",
   "execution_count": 52,
   "id": "29c9f36c",
   "metadata": {},
   "outputs": [],
   "source": [
    "def getNumber():\n",
    "    print(6546546854)"
   ]
  },
  {
   "cell_type": "code",
   "execution_count": 53,
   "id": "0f7c583f",
   "metadata": {},
   "outputs": [
    {
     "name": "stdout",
     "output_type": "stream",
     "text": [
      "6546546854\n"
     ]
    }
   ],
   "source": [
    "getNumber()"
   ]
  },
  {
   "cell_type": "code",
   "execution_count": 54,
   "id": "6190412c",
   "metadata": {},
   "outputs": [],
   "source": [
    "def getNumber(num):\n",
    "    print(num)"
   ]
  },
  {
   "cell_type": "code",
   "execution_count": 56,
   "id": "ba816613",
   "metadata": {},
   "outputs": [
    {
     "name": "stdout",
     "output_type": "stream",
     "text": [
      "65416584984\n"
     ]
    }
   ],
   "source": [
    "getNumber(65416584984)"
   ]
  },
  {
   "cell_type": "code",
   "execution_count": 57,
   "id": "c6b9ca1d",
   "metadata": {},
   "outputs": [],
   "source": [
    "def getNumber(num, num2, num3):\n",
    "    print(num, num2, num3)"
   ]
  },
  {
   "cell_type": "code",
   "execution_count": 58,
   "id": "0af50a73",
   "metadata": {},
   "outputs": [
    {
     "name": "stdout",
     "output_type": "stream",
     "text": [
      "10 20 320\n"
     ]
    }
   ],
   "source": [
    "getNumber(10, 20, 320)"
   ]
  },
  {
   "cell_type": "code",
   "execution_count": 59,
   "id": "01f9129f",
   "metadata": {},
   "outputs": [],
   "source": [
    "def getNumber(*num):\n",
    "    print(num)"
   ]
  },
  {
   "cell_type": "code",
   "execution_count": 60,
   "id": "ccafc7a4",
   "metadata": {},
   "outputs": [
    {
     "name": "stdout",
     "output_type": "stream",
     "text": [
      "(10, 202, 30, 40)\n"
     ]
    }
   ],
   "source": [
    "getNumber(10, 202, 30, 40)"
   ]
  },
  {
   "cell_type": "code",
   "execution_count": 61,
   "id": "e57debf4",
   "metadata": {},
   "outputs": [],
   "source": [
    "def getNumber(*num):\n",
    "    return num"
   ]
  },
  {
   "cell_type": "code",
   "execution_count": 62,
   "id": "d428a41b",
   "metadata": {},
   "outputs": [
    {
     "data": {
      "text/plain": [
       "(10, 20)"
      ]
     },
     "execution_count": 62,
     "metadata": {},
     "output_type": "execute_result"
    }
   ],
   "source": [
    "getNumber(10, 20)"
   ]
  },
  {
   "cell_type": "code",
   "execution_count": 63,
   "id": "d1744608",
   "metadata": {},
   "outputs": [],
   "source": [
    "def get_info(**infos): # **kwargs\n",
    "    return infos"
   ]
  },
  {
   "cell_type": "code",
   "execution_count": 64,
   "id": "737d117f",
   "metadata": {},
   "outputs": [
    {
     "data": {
      "text/plain": [
       "{'name': 'Jahid', 'address': 'Dhaka'}"
      ]
     },
     "execution_count": 64,
     "metadata": {},
     "output_type": "execute_result"
    }
   ],
   "source": [
    "get_info(name=\"Jahid\", address=\"Dhaka\")"
   ]
  },
  {
   "cell_type": "code",
   "execution_count": null,
   "id": "6d2a2fc2",
   "metadata": {},
   "outputs": [],
   "source": []
  }
 ],
 "metadata": {
  "kernelspec": {
   "display_name": "Python 3 (ipykernel)",
   "language": "python",
   "name": "python3"
  },
  "language_info": {
   "codemirror_mode": {
    "name": "ipython",
    "version": 3
   },
   "file_extension": ".py",
   "mimetype": "text/x-python",
   "name": "python",
   "nbconvert_exporter": "python",
   "pygments_lexer": "ipython3",
   "version": "3.9.7"
  }
 },
 "nbformat": 4,
 "nbformat_minor": 5
}
