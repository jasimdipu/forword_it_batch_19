{
 "cells": [
  {
   "cell_type": "code",
   "execution_count": 1,
   "id": "53fe3907",
   "metadata": {},
   "outputs": [
    {
     "data": {
      "text/plain": [
       "('Rashid Hossan', 'class 9', 'oxford', 'math')"
      ]
     },
     "execution_count": 1,
     "metadata": {},
     "output_type": "execute_result"
    }
   ],
   "source": [
    "# condition practice\n",
    "#result creat\n",
    "name = ('Rashid Hossan')\n",
    "level = ('class 9') \n",
    "section = 'oxford'\n",
    "sub = 'math'\n",
    "name, level, section, sub \n"
   ]
  },
  {
   "cell_type": "code",
   "execution_count": 3,
   "id": "ccad263d",
   "metadata": {},
   "outputs": [
    {
     "name": "stdout",
     "output_type": "stream",
     "text": [
      "Rashid Hossan class 9 oxford math\n",
      "fail, grade 'F', gpa '0'\n"
     ]
    }
   ],
   "source": [
    "sub_num = 28\n",
    "print(name, level, section, sub)\n",
    "if sub_num <= 32:\n",
    "    print(\"fail, grade 'F', gpa '0'\")\n",
    "elif sub_num <= 40:\n",
    "    print(\"pass, grade 'D', gpa '1'\")\n",
    "elif sub_num <= 49:\n",
    "    print(\"pass, grade 'c', gpa '2'\")\n",
    "elif sub_num <= 59:\n",
    "    print(\"pass, grade 'B', gpa '3'\")\n",
    "elif sub_num <=69 :\n",
    "    print(\"pass, grade 'A-', gpa '3.5'\")\n",
    "elif sub_num <= 79:\n",
    "    print(\"pass, grade 'A', gpa '4'\")\n",
    "elif sub_num >= 80 and sub_num <= 100 :\n",
    "    print(\"pass, grade 'A+', gpa '5'\")\n",
    "elif sub_num >= 101:\n",
    "    print('error')"
   ]
  },
  {
   "cell_type": "code",
   "execution_count": null,
   "id": "a2bdb1df",
   "metadata": {},
   "outputs": [],
   "source": []
  }
 ],
 "metadata": {
  "kernelspec": {
   "display_name": "Python 3 (ipykernel)",
   "language": "python",
   "name": "python3"
  },
  "language_info": {
   "codemirror_mode": {
    "name": "ipython",
    "version": 3
   },
   "file_extension": ".py",
   "mimetype": "text/x-python",
   "name": "python",
   "nbconvert_exporter": "python",
   "pygments_lexer": "ipython3",
   "version": "3.9.7"
  }
 },
 "nbformat": 4,
 "nbformat_minor": 5
}
