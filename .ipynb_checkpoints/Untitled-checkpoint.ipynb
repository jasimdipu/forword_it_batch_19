{
 "cells": [
  {
   "cell_type": "markdown",
   "id": "57d56e53",
   "metadata": {},
   "source": [
    "# Condition"
   ]
  },
  {
   "cell_type": "code",
   "execution_count": null,
   "id": "de523fe7",
   "metadata": {},
   "outputs": [],
   "source": [
    "if condition:\n",
    "    statement\n",
    "else:\n",
    "    statement"
   ]
  },
  {
   "cell_type": "code",
   "execution_count": 2,
   "id": "f39cf516",
   "metadata": {},
   "outputs": [
    {
     "name": "stdout",
     "output_type": "stream",
     "text": [
      "False\n"
     ]
    }
   ],
   "source": [
    "if 100<10:\n",
    "    print(\"True\")\n",
    "else:\n",
    "    print(\"False\")"
   ]
  },
  {
   "cell_type": "code",
   "execution_count": 12,
   "id": "2b7e9ca5",
   "metadata": {},
   "outputs": [
    {
     "name": "stdout",
     "output_type": "stream",
     "text": [
      "I will buy a tShirt\n"
     ]
    }
   ],
   "source": [
    "# if else ladder\n",
    "money = 11000 # and, or, not\n",
    "if money >= 1000 and money <= 1999:\n",
    "    print(\"Go for watch movie in cineplex\")\n",
    "elif money >= 2000 and money <= 5000:\n",
    "    print(\"watch and eating dinner\")\n",
    "elif not money <= 9000:\n",
    "    print(\"I will buy a tShirt\")\n",
    "else:\n",
    "    print(\"Stay in home\")"
   ]
  },
  {
   "cell_type": "code",
   "execution_count": 18,
   "id": "3e3a756b",
   "metadata": {},
   "outputs": [
    {
     "name": "stdout",
     "output_type": "stream",
     "text": [
      "Accepted for passport\n",
      "Not varified, do you have any certificate ex: SSC, HSc\n",
      "Fine it will be ok\n"
     ]
    }
   ],
   "source": [
    "# if else nested\n",
    "# nid and age\n",
    "age = 18\n",
    "nid = False\n",
    "bc = False\n",
    "cer = True\n",
    "\n",
    "\n",
    "if age >= 18:\n",
    "    print(\"Accepted for passport\")\n",
    "    if nid == True:\n",
    "        print(\"Varified for passport\")\n",
    "    else:\n",
    "        print(\"Not varified, do you have any certificate ex: SSC, HSc\")\n",
    "        if cer == True:\n",
    "            print(\"Fine it will be ok\")\n",
    "        else:\n",
    "            print(\"We are really sorry\")\n",
    "else:\n",
    "    print(\"Under 18, do you have birth certificate?\")\n",
    "    if bc == True:\n",
    "        print(\"BC is fine\")\n",
    "    else:\n",
    "        print(\"Please brings the BC or Chairman certificate!\")"
   ]
  },
  {
   "cell_type": "code",
   "execution_count": null,
   "id": "56b963d9",
   "metadata": {},
   "outputs": [],
   "source": []
  }
 ],
 "metadata": {
  "kernelspec": {
   "display_name": "Python 3 (ipykernel)",
   "language": "python",
   "name": "python3"
  },
  "language_info": {
   "codemirror_mode": {
    "name": "ipython",
    "version": 3
   },
   "file_extension": ".py",
   "mimetype": "text/x-python",
   "name": "python",
   "nbconvert_exporter": "python",
   "pygments_lexer": "ipython3",
   "version": "3.9.7"
  }
 },
 "nbformat": 4,
 "nbformat_minor": 5
}
