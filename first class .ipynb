{
 "cells": [
  {
   "cell_type": "code",
   "execution_count": 2,
   "id": "ff298b75",
   "metadata": {},
   "outputs": [],
   "source": [
    "# Data Type, Variable"
   ]
  },
  {
   "cell_type": "code",
   "execution_count": 5,
   "id": "386a62ce",
   "metadata": {},
   "outputs": [
    {
     "name": "stdout",
     "output_type": "stream",
     "text": [
      "100 <class 'int'>\n",
      "30.33 <class 'float'>\n",
      "Welcome coders <class 'str'>\n",
      "True <class 'bool'>\n",
      "False <class 'bool'>\n"
     ]
    }
   ],
   "source": [
    "# Data Type\n",
    "# int, float, string, boolean\n",
    "print(100, type(100)) # integer\n",
    "print(30.33, type(30.33)) # float\n",
    "print(\"Welcome coders\", type(\"Welcome Coders\"))\n",
    "print(True, type(True))\n",
    "print(False, type(False))"
   ]
  },
  {
   "cell_type": "code",
   "execution_count": 8,
   "id": "b396b01e",
   "metadata": {},
   "outputs": [
    {
     "data": {
      "text/plain": [
       "120065416849684984968496840651684984096840984"
      ]
     },
     "execution_count": 8,
     "metadata": {},
     "output_type": "execute_result"
    }
   ],
   "source": [
    "number = 120065416849684984968496840651684984096840984\n",
    "number"
   ]
  },
  {
   "cell_type": "code",
   "execution_count": 9,
   "id": "f6e8c391",
   "metadata": {},
   "outputs": [
    {
     "data": {
      "text/plain": [
       "'welcome to forword it'"
      ]
     },
     "execution_count": 9,
     "metadata": {},
     "output_type": "execute_result"
    }
   ],
   "source": [
    "'welcome to forword it'"
   ]
  },
  {
   "cell_type": "code",
   "execution_count": 10,
   "id": "1f983c3a",
   "metadata": {},
   "outputs": [
    {
     "data": {
      "text/plain": [
       "'We are fantastic learners'"
      ]
     },
     "execution_count": 10,
     "metadata": {},
     "output_type": "execute_result"
    }
   ],
   "source": [
    "\"We are fantastic learners\""
   ]
  },
  {
   "cell_type": "code",
   "execution_count": 11,
   "id": "ad7be9b8",
   "metadata": {},
   "outputs": [
    {
     "ename": "SyntaxError",
     "evalue": "invalid syntax (Temp/ipykernel_31636/311551051.py, line 1)",
     "output_type": "error",
     "traceback": [
      "\u001b[1;36m  File \u001b[1;32m\"C:\\Users\\PC\\AppData\\Local\\Temp/ipykernel_31636/311551051.py\"\u001b[1;36m, line \u001b[1;32m1\u001b[0m\n\u001b[1;33m    'it's a shiny day'\u001b[0m\n\u001b[1;37m        ^\u001b[0m\n\u001b[1;31mSyntaxError\u001b[0m\u001b[1;31m:\u001b[0m invalid syntax\n"
     ]
    }
   ],
   "source": [
    "'it's a shiny day'"
   ]
  },
  {
   "cell_type": "code",
   "execution_count": 12,
   "id": "e277905e",
   "metadata": {},
   "outputs": [
    {
     "data": {
      "text/plain": [
       "\"it's a shiny da\""
      ]
     },
     "execution_count": 12,
     "metadata": {},
     "output_type": "execute_result"
    }
   ],
   "source": [
    "\"it's a shiny da\""
   ]
  },
  {
   "cell_type": "code",
   "execution_count": 24,
   "id": "18144df7",
   "metadata": {},
   "outputs": [],
   "source": [
    "# variable\n",
    "name = \"Abul Kalam\"\n",
    "age = 32"
   ]
  },
  {
   "cell_type": "code",
   "execution_count": 20,
   "id": "4fda5f8a",
   "metadata": {},
   "outputs": [],
   "source": [
    "address = \"Dhaka\""
   ]
  },
  {
   "cell_type": "code",
   "execution_count": 25,
   "id": "52a6fcc2",
   "metadata": {},
   "outputs": [
    {
     "data": {
      "text/plain": [
       "('Abul Kalam', 32, 'Dhaka')"
      ]
     },
     "execution_count": 25,
     "metadata": {},
     "output_type": "execute_result"
    }
   ],
   "source": [
    "name, age, address"
   ]
  },
  {
   "cell_type": "code",
   "execution_count": null,
   "id": "b47db7c1",
   "metadata": {},
   "outputs": [],
   "source": [
    "# no symbols -> @#$%\n",
    "# no number befor declaration -> 1name\n",
    "# must assign a value -> address = 'dhaka'"
   ]
  },
  {
   "cell_type": "code",
   "execution_count": 27,
   "id": "794e6bec",
   "metadata": {},
   "outputs": [],
   "source": [
    "address2 = \"\""
   ]
  },
  {
   "cell_type": "code",
   "execution_count": 13,
   "id": "a202463a",
   "metadata": {},
   "outputs": [
    {
     "data": {
      "text/plain": [
       "45000"
      ]
     },
     "execution_count": 13,
     "metadata": {},
     "output_type": "execute_result"
    }
   ],
   "source": [
    "15*3000"
   ]
  },
  {
   "cell_type": "code",
   "execution_count": null,
   "id": "5e8cdaed",
   "metadata": {},
   "outputs": [],
   "source": []
  }
 ],
 "metadata": {
  "kernelspec": {
   "display_name": "Python 3 (ipykernel)",
   "language": "python",
   "name": "python3"
  },
  "language_info": {
   "codemirror_mode": {
    "name": "ipython",
    "version": 3
   },
   "file_extension": ".py",
   "mimetype": "text/x-python",
   "name": "python",
   "nbconvert_exporter": "python",
   "pygments_lexer": "ipython3",
   "version": "3.9.7"
  }
 },
 "nbformat": 4,
 "nbformat_minor": 5
}
